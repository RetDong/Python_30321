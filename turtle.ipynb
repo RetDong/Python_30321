{
 "cells": [
  {
   "cell_type": "markdown",
   "metadata": {},
   "source": [
    "### 거북이로 그림 그리기\n"
   ]
  },
  {
   "cell_type": "code",
   "execution_count": 1,
   "metadata": {},
   "outputs": [],
   "source": [
    "from turtle import *\n",
    "color('red', 'yellow')\n",
    "begin_fill()\n",
    "while True:\n",
    "    forward(200)\n",
    "    left(170)\n",
    "    if abs(pos()) < 1:\n",
    "        break\n",
    "end_fill()\n",
    "done()"
   ]
  },
  {
   "cell_type": "code",
   "execution_count": null,
   "metadata": {},
   "outputs": [],
   "source": [
    "import turtle as t\n",
    "t.color('red', 'yellow')\n",
    "t.begin_fill()\n",
    "t.shape('turtle')\n",
    "for i in range(4) :\n",
    "    t.fd(200)\n",
    "    t.left(72)\n",
    "\n",
    "t.end_fill()\n",
    "t.exitonclick()\n"
   ]
  },
  {
   "cell_type": "code",
   "execution_count": 1,
   "metadata": {},
   "outputs": [
    {
     "name": "stdout",
     "output_type": "stream",
     "text": [
      "몇각형? 128\n"
     ]
    }
   ],
   "source": [
    "import turtle as t\n",
    "t.color('red', 'yellow')\n",
    "t.begin_fill()\n",
    "t.shape('turtle')\n",
    "angle = int(input('몇각형? '))\n",
    "for i in range(angle) :\n",
    "    t.fd(200)\n",
    "    t.left(360/angle)\n",
    "\n",
    "t.end_fill()\n",
    "t.exitonclick()\n"
   ]
  },
  {
   "cell_type": "code",
   "execution_count": 2,
   "metadata": {},
   "outputs": [
    {
     "name": "stdout",
     "output_type": "stream",
     "text": [
      "몇번돌래? 60\n"
     ]
    }
   ],
   "source": [
    "import turtle as t\n",
    "t.color('blue', 'green')\n",
    "t.begin_fill()\n",
    "t.shape('turtle')\n",
    "t.speed('fast')\n",
    "n = int(input('몇번돌래? '))\n",
    "for i in range(n):\n",
    "    t.circle(120)\n",
    "    t.right(360 / n)\n",
    "t.end_fill()"
   ]
  },
  {
   "cell_type": "code",
   "execution_count": 1,
   "metadata": {},
   "outputs": [
    {
     "name": "stdout",
     "output_type": "stream",
     "text": [
      "몇번돌래? 10\n"
     ]
    }
   ],
   "source": [
    "import turtle as t\n",
    "t.begin_fill()\n",
    "t.shape('turtle')\n",
    "t.speed('fast')\n",
    "n = int(input('몇번돌래? '))\n",
    "for i in range(n):\n",
    "    if i%2==0 :\n",
    "        t.color('red')\n",
    "    else :\n",
    "        t.color('green')\n",
    "    t.circle(120)\n",
    "    t.right(360 / n)\n",
    "t.color('yellow')\n",
    "t.end_fill()"
   ]
  }
 ],
 "metadata": {
  "kernelspec": {
   "display_name": "Python 3",
   "language": "python",
   "name": "python3"
  },
  "language_info": {
   "codemirror_mode": {
    "name": "ipython",
    "version": 3
   },
   "file_extension": ".py",
   "mimetype": "text/x-python",
   "name": "python",
   "nbconvert_exporter": "python",
   "pygments_lexer": "ipython3",
   "version": "3.7.4"
  }
 },
 "nbformat": 4,
 "nbformat_minor": 2
}
